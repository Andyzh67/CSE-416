{
  "nbformat": 4,
  "nbformat_minor": 0,
  "metadata": {
    "colab": {
      "name": "HW5_Loan_Safety_with_Decision_Trees.ipynb",
      "provenance": [],
      "collapsed_sections": []
    },
    "kernelspec": {
      "display_name": "Python 3",
      "language": "python",
      "name": "python3"
    },
    "language_info": {
      "codemirror_mode": {
        "name": "ipython",
        "version": 3
      },
      "file_extension": ".py",
      "mimetype": "text/x-python",
      "name": "python",
      "nbconvert_exporter": "python",
      "pygments_lexer": "ipython3",
      "version": "3.9.1"
    }
  },
  "cells": [
    {
      "cell_type": "markdown",
      "metadata": {
        "id": "_B2jyjc7T_D7"
      },
      "source": [
        "# Homework 5 - Loan Safety with Dec\n",
        "\n",
        "###Coding Portion should be submitted on EdStem, and the Concept Portion on Gradescope.\n",
        "\n",
        "The LendingClub is a peer-to-peer lending company that directly connects borrowers and potential lenders/investors. In this notebook, you will build a classification model to predict whether or not a loan provided by LendingClub is likely to default. In this assignment, you will practice:\n",
        "\n",
        "* Use Pandas Dataframes to do feature engineering\n",
        "* Train a decision tree model to predict the sentiment of product reviews.\n",
        "* Visualize the decision tree\n",
        "* Predict the probability of a certain label using the tree\n",
        "* Investigate how the complexity of the tree affects the results\n",
        "\n",
        "Fill in the cells provided marked `TODO` with code to answer the questions. **Unless otherwise noted, every answer you submit should have code that clearly shows the answer in the output.** Answers submitted that do not have associated code that shows the answer may not be accepted for credit. \n",
        "\n",
        "**Make sure to restart the kernel and run all cells** (especially before turning it in) to make sure your code runs correctly. \n",
        "\n",
        "> Copyright ©2021 Emily Fox, Hunter Schafer, and Valentina Staneva  All rights reserved.  Permission is hereby granted to students registered for University of Washington CSE/STAT 416 for use solely during Autumn Quarter 2020 for purposes of the course.  No other use, copying, distribution, or modification is permitted without prior written consent. Copyrights for third-party components of this work must be honored.  Instructors interested in reusing these course materials should contact the author.\n",
        "\n",
        "---"
      ]
    },
    {
      "cell_type": "code",
      "metadata": {
        "id": "Ma7oV5KTT_EE"
      },
      "source": [
        "import matplotlib.pyplot as plt\n",
        "import numpy as np\n",
        "import pandas as pd\n",
        "import seaborn as sns\n",
        "from mpl_toolkits.mplot3d import Axes3D\n",
        "\n",
        "%matplotlib inline\n",
        "sns.set()"
      ],
      "execution_count": 1,
      "outputs": []
    },
    {
      "cell_type": "markdown",
      "metadata": {
        "id": "YEk9IlQTT_EF"
      },
      "source": [
        "# Investigate Data\n",
        "In this first part of the assignment, we will investigate the data to get a better sense of what we are working with. \n",
        "\n",
        "> Remember that you should look through and understand the parts of the code that load in data since the later parts will assume you are familiar with the preprocessing we did.\n",
        "\n",
        "First we load in the dataset and then inspect the values:"
      ]
    },
    {
      "cell_type": "code",
      "metadata": {
        "id": "exZLlaQ0T_EF",
        "colab": {
          "base_uri": "https://localhost:8080/",
          "height": 442
        },
        "outputId": "5dee31bc-dbe9-43a3-d6f4-0dbfab62422a"
      },
      "source": [
        "loans = pd.read_csv('lending-club-data.csv')\n",
        "loans.head()"
      ],
      "execution_count": 2,
      "outputs": [
        {
          "output_type": "execute_result",
          "data": {
            "text/html": [
              "<div>\n",
              "<style scoped>\n",
              "    .dataframe tbody tr th:only-of-type {\n",
              "        vertical-align: middle;\n",
              "    }\n",
              "\n",
              "    .dataframe tbody tr th {\n",
              "        vertical-align: top;\n",
              "    }\n",
              "\n",
              "    .dataframe thead th {\n",
              "        text-align: right;\n",
              "    }\n",
              "</style>\n",
              "<table border=\"1\" class=\"dataframe\">\n",
              "  <thead>\n",
              "    <tr style=\"text-align: right;\">\n",
              "      <th></th>\n",
              "      <th>id</th>\n",
              "      <th>member_id</th>\n",
              "      <th>loan_amnt</th>\n",
              "      <th>funded_amnt</th>\n",
              "      <th>funded_amnt_inv</th>\n",
              "      <th>term</th>\n",
              "      <th>int_rate</th>\n",
              "      <th>installment</th>\n",
              "      <th>grade</th>\n",
              "      <th>sub_grade</th>\n",
              "      <th>emp_title</th>\n",
              "      <th>emp_length</th>\n",
              "      <th>home_ownership</th>\n",
              "      <th>annual_inc</th>\n",
              "      <th>is_inc_v</th>\n",
              "      <th>issue_d</th>\n",
              "      <th>loan_status</th>\n",
              "      <th>pymnt_plan</th>\n",
              "      <th>url</th>\n",
              "      <th>desc</th>\n",
              "      <th>purpose</th>\n",
              "      <th>title</th>\n",
              "      <th>zip_code</th>\n",
              "      <th>addr_state</th>\n",
              "      <th>dti</th>\n",
              "      <th>delinq_2yrs</th>\n",
              "      <th>earliest_cr_line</th>\n",
              "      <th>inq_last_6mths</th>\n",
              "      <th>mths_since_last_delinq</th>\n",
              "      <th>mths_since_last_record</th>\n",
              "      <th>open_acc</th>\n",
              "      <th>pub_rec</th>\n",
              "      <th>revol_bal</th>\n",
              "      <th>revol_util</th>\n",
              "      <th>total_acc</th>\n",
              "      <th>initial_list_status</th>\n",
              "      <th>out_prncp</th>\n",
              "      <th>out_prncp_inv</th>\n",
              "      <th>total_pymnt</th>\n",
              "      <th>total_pymnt_inv</th>\n",
              "      <th>total_rec_prncp</th>\n",
              "      <th>total_rec_int</th>\n",
              "      <th>total_rec_late_fee</th>\n",
              "      <th>recoveries</th>\n",
              "      <th>collection_recovery_fee</th>\n",
              "      <th>last_pymnt_d</th>\n",
              "      <th>last_pymnt_amnt</th>\n",
              "      <th>next_pymnt_d</th>\n",
              "      <th>last_credit_pull_d</th>\n",
              "      <th>collections_12_mths_ex_med</th>\n",
              "      <th>mths_since_last_major_derog</th>\n",
              "      <th>policy_code</th>\n",
              "      <th>not_compliant</th>\n",
              "      <th>status</th>\n",
              "      <th>inactive_loans</th>\n",
              "      <th>bad_loans</th>\n",
              "      <th>emp_length_num</th>\n",
              "      <th>grade_num</th>\n",
              "      <th>sub_grade_num</th>\n",
              "      <th>delinq_2yrs_zero</th>\n",
              "      <th>pub_rec_zero</th>\n",
              "      <th>collections_12_mths_zero</th>\n",
              "      <th>short_emp</th>\n",
              "      <th>payment_inc_ratio</th>\n",
              "      <th>final_d</th>\n",
              "      <th>last_delinq_none</th>\n",
              "      <th>last_record_none</th>\n",
              "      <th>last_major_derog_none</th>\n",
              "    </tr>\n",
              "  </thead>\n",
              "  <tbody>\n",
              "    <tr>\n",
              "      <th>0</th>\n",
              "      <td>762032</td>\n",
              "      <td>962526</td>\n",
              "      <td>4000</td>\n",
              "      <td>4000</td>\n",
              "      <td>4000</td>\n",
              "      <td>36 months</td>\n",
              "      <td>10.59</td>\n",
              "      <td>130.18</td>\n",
              "      <td>B</td>\n",
              "      <td>B2</td>\n",
              "      <td>Suture Express</td>\n",
              "      <td>1 year</td>\n",
              "      <td>RENT</td>\n",
              "      <td>50000</td>\n",
              "      <td>Not Verified</td>\n",
              "      <td>20110601T000000</td>\n",
              "      <td>Fully Paid</td>\n",
              "      <td>n</td>\n",
              "      <td>https://www.lendingclub.com/browse/loanDetail....</td>\n",
              "      <td>NaN</td>\n",
              "      <td>debt_consolidation</td>\n",
              "      <td>JKM debt equalizer</td>\n",
              "      <td>641xx</td>\n",
              "      <td>MO</td>\n",
              "      <td>1.80</td>\n",
              "      <td>0</td>\n",
              "      <td>20000601T000000</td>\n",
              "      <td>2</td>\n",
              "      <td>46.0</td>\n",
              "      <td>NaN</td>\n",
              "      <td>9</td>\n",
              "      <td>0</td>\n",
              "      <td>5009</td>\n",
              "      <td>20.1</td>\n",
              "      <td>16</td>\n",
              "      <td>f</td>\n",
              "      <td>0.0</td>\n",
              "      <td>0.0</td>\n",
              "      <td>4340.76</td>\n",
              "      <td>4340.76</td>\n",
              "      <td>4000.0</td>\n",
              "      <td>340.76</td>\n",
              "      <td>0.0</td>\n",
              "      <td>0.0</td>\n",
              "      <td>0.0</td>\n",
              "      <td>20120501T000000</td>\n",
              "      <td>3042.76</td>\n",
              "      <td>NaN</td>\n",
              "      <td>20150201T000000</td>\n",
              "      <td>0</td>\n",
              "      <td>NaN</td>\n",
              "      <td>1</td>\n",
              "      <td>0</td>\n",
              "      <td>Fully Paid</td>\n",
              "      <td>1</td>\n",
              "      <td>0</td>\n",
              "      <td>2</td>\n",
              "      <td>5</td>\n",
              "      <td>0.4</td>\n",
              "      <td>1</td>\n",
              "      <td>1</td>\n",
              "      <td>1</td>\n",
              "      <td>0</td>\n",
              "      <td>3.12432</td>\n",
              "      <td>20140601T000000</td>\n",
              "      <td>0</td>\n",
              "      <td>1</td>\n",
              "      <td>1</td>\n",
              "    </tr>\n",
              "    <tr>\n",
              "      <th>1</th>\n",
              "      <td>815326</td>\n",
              "      <td>1022979</td>\n",
              "      <td>12000</td>\n",
              "      <td>12000</td>\n",
              "      <td>12000</td>\n",
              "      <td>60 months</td>\n",
              "      <td>19.69</td>\n",
              "      <td>315.87</td>\n",
              "      <td>E</td>\n",
              "      <td>E5</td>\n",
              "      <td>John A. Penney Co./Viscom Systems, Inc.</td>\n",
              "      <td>10+ years</td>\n",
              "      <td>MORTGAGE</td>\n",
              "      <td>140000</td>\n",
              "      <td>Not Verified</td>\n",
              "      <td>20110701T000000</td>\n",
              "      <td>Fully Paid</td>\n",
              "      <td>n</td>\n",
              "      <td>https://www.lendingclub.com/browse/loanDetail....</td>\n",
              "      <td>Borrower added on 07/15/11 &gt; Hello.  I am an...</td>\n",
              "      <td>medical</td>\n",
              "      <td>Medical</td>\n",
              "      <td>017xx</td>\n",
              "      <td>MA</td>\n",
              "      <td>11.73</td>\n",
              "      <td>0</td>\n",
              "      <td>19980101T000000</td>\n",
              "      <td>3</td>\n",
              "      <td>24.0</td>\n",
              "      <td>NaN</td>\n",
              "      <td>6</td>\n",
              "      <td>0</td>\n",
              "      <td>10832</td>\n",
              "      <td>89.5</td>\n",
              "      <td>36</td>\n",
              "      <td>f</td>\n",
              "      <td>0.0</td>\n",
              "      <td>0.0</td>\n",
              "      <td>16237.30</td>\n",
              "      <td>16237.30</td>\n",
              "      <td>12000.0</td>\n",
              "      <td>4237.28</td>\n",
              "      <td>0.0</td>\n",
              "      <td>0.0</td>\n",
              "      <td>0.0</td>\n",
              "      <td>20130901T000000</td>\n",
              "      <td>8693.29</td>\n",
              "      <td>NaN</td>\n",
              "      <td>20130901T000000</td>\n",
              "      <td>0</td>\n",
              "      <td>NaN</td>\n",
              "      <td>1</td>\n",
              "      <td>0</td>\n",
              "      <td>Fully Paid</td>\n",
              "      <td>1</td>\n",
              "      <td>0</td>\n",
              "      <td>11</td>\n",
              "      <td>2</td>\n",
              "      <td>1.0</td>\n",
              "      <td>1</td>\n",
              "      <td>1</td>\n",
              "      <td>1</td>\n",
              "      <td>0</td>\n",
              "      <td>2.70746</td>\n",
              "      <td>20160701T000000</td>\n",
              "      <td>0</td>\n",
              "      <td>1</td>\n",
              "      <td>1</td>\n",
              "    </tr>\n",
              "    <tr>\n",
              "      <th>2</th>\n",
              "      <td>563689</td>\n",
              "      <td>725339</td>\n",
              "      <td>8000</td>\n",
              "      <td>8000</td>\n",
              "      <td>7875</td>\n",
              "      <td>36 months</td>\n",
              "      <td>7.51</td>\n",
              "      <td>248.89</td>\n",
              "      <td>A</td>\n",
              "      <td>A4</td>\n",
              "      <td>US Marines</td>\n",
              "      <td>10+ years</td>\n",
              "      <td>MORTGAGE</td>\n",
              "      <td>115000</td>\n",
              "      <td>Not Verified</td>\n",
              "      <td>20100801T000000</td>\n",
              "      <td>Fully Paid</td>\n",
              "      <td>n</td>\n",
              "      <td>https://www.lendingclub.com/browse/loanDetail....</td>\n",
              "      <td>NaN</td>\n",
              "      <td>other</td>\n",
              "      <td>Water Heater</td>\n",
              "      <td>299xx</td>\n",
              "      <td>SC</td>\n",
              "      <td>8.94</td>\n",
              "      <td>0</td>\n",
              "      <td>19940201T000000</td>\n",
              "      <td>0</td>\n",
              "      <td>30.0</td>\n",
              "      <td>NaN</td>\n",
              "      <td>6</td>\n",
              "      <td>0</td>\n",
              "      <td>5301</td>\n",
              "      <td>14.1</td>\n",
              "      <td>24</td>\n",
              "      <td>f</td>\n",
              "      <td>0.0</td>\n",
              "      <td>0.0</td>\n",
              "      <td>8364.99</td>\n",
              "      <td>8234.29</td>\n",
              "      <td>8000.0</td>\n",
              "      <td>364.99</td>\n",
              "      <td>0.0</td>\n",
              "      <td>0.0</td>\n",
              "      <td>0.0</td>\n",
              "      <td>20110501T000000</td>\n",
              "      <td>6631.79</td>\n",
              "      <td>NaN</td>\n",
              "      <td>20110401T000000</td>\n",
              "      <td>0</td>\n",
              "      <td>NaN</td>\n",
              "      <td>1</td>\n",
              "      <td>0</td>\n",
              "      <td>Fully Paid</td>\n",
              "      <td>1</td>\n",
              "      <td>0</td>\n",
              "      <td>11</td>\n",
              "      <td>6</td>\n",
              "      <td>0.8</td>\n",
              "      <td>1</td>\n",
              "      <td>1</td>\n",
              "      <td>1</td>\n",
              "      <td>0</td>\n",
              "      <td>2.59711</td>\n",
              "      <td>20130801T000000</td>\n",
              "      <td>0</td>\n",
              "      <td>1</td>\n",
              "      <td>1</td>\n",
              "    </tr>\n",
              "    <tr>\n",
              "      <th>3</th>\n",
              "      <td>756260</td>\n",
              "      <td>949279</td>\n",
              "      <td>4000</td>\n",
              "      <td>4000</td>\n",
              "      <td>3975</td>\n",
              "      <td>60 months</td>\n",
              "      <td>13.99</td>\n",
              "      <td>93.06</td>\n",
              "      <td>C</td>\n",
              "      <td>C3</td>\n",
              "      <td>Child Care Careers</td>\n",
              "      <td>2 years</td>\n",
              "      <td>RENT</td>\n",
              "      <td>21996</td>\n",
              "      <td>Source Verified</td>\n",
              "      <td>20110501T000000</td>\n",
              "      <td>Fully Paid</td>\n",
              "      <td>n</td>\n",
              "      <td>https://www.lendingclub.com/browse/loanDetail....</td>\n",
              "      <td>Borrower added on 05/07/11 &gt; N/a&lt;br/&gt; Borrower...</td>\n",
              "      <td>other</td>\n",
              "      <td>personal</td>\n",
              "      <td>920xx</td>\n",
              "      <td>CA</td>\n",
              "      <td>0.55</td>\n",
              "      <td>0</td>\n",
              "      <td>20070201T000000</td>\n",
              "      <td>1</td>\n",
              "      <td>NaN</td>\n",
              "      <td>NaN</td>\n",
              "      <td>3</td>\n",
              "      <td>0</td>\n",
              "      <td>448</td>\n",
              "      <td>17.2</td>\n",
              "      <td>6</td>\n",
              "      <td>f</td>\n",
              "      <td>0.0</td>\n",
              "      <td>0.0</td>\n",
              "      <td>4927.70</td>\n",
              "      <td>4896.91</td>\n",
              "      <td>4000.0</td>\n",
              "      <td>927.70</td>\n",
              "      <td>0.0</td>\n",
              "      <td>0.0</td>\n",
              "      <td>0.0</td>\n",
              "      <td>20130401T000000</td>\n",
              "      <td>2885.86</td>\n",
              "      <td>NaN</td>\n",
              "      <td>20130401T000000</td>\n",
              "      <td>0</td>\n",
              "      <td>NaN</td>\n",
              "      <td>1</td>\n",
              "      <td>0</td>\n",
              "      <td>Fully Paid</td>\n",
              "      <td>1</td>\n",
              "      <td>0</td>\n",
              "      <td>3</td>\n",
              "      <td>4</td>\n",
              "      <td>0.6</td>\n",
              "      <td>1</td>\n",
              "      <td>1</td>\n",
              "      <td>1</td>\n",
              "      <td>0</td>\n",
              "      <td>5.07692</td>\n",
              "      <td>20160501T000000</td>\n",
              "      <td>1</td>\n",
              "      <td>1</td>\n",
              "      <td>1</td>\n",
              "    </tr>\n",
              "    <tr>\n",
              "      <th>4</th>\n",
              "      <td>787083</td>\n",
              "      <td>990585</td>\n",
              "      <td>5400</td>\n",
              "      <td>5400</td>\n",
              "      <td>5400</td>\n",
              "      <td>36 months</td>\n",
              "      <td>15.23</td>\n",
              "      <td>187.81</td>\n",
              "      <td>C</td>\n",
              "      <td>C5</td>\n",
              "      <td>caliber collision center</td>\n",
              "      <td>2 years</td>\n",
              "      <td>RENT</td>\n",
              "      <td>18000</td>\n",
              "      <td>Verified</td>\n",
              "      <td>20110601T000000</td>\n",
              "      <td>Fully Paid</td>\n",
              "      <td>n</td>\n",
              "      <td>https://www.lendingclub.com/browse/loanDetail....</td>\n",
              "      <td>NaN</td>\n",
              "      <td>debt_consolidation</td>\n",
              "      <td>debt</td>\n",
              "      <td>925xx</td>\n",
              "      <td>CA</td>\n",
              "      <td>15.47</td>\n",
              "      <td>0</td>\n",
              "      <td>20080201T000000</td>\n",
              "      <td>1</td>\n",
              "      <td>NaN</td>\n",
              "      <td>NaN</td>\n",
              "      <td>5</td>\n",
              "      <td>0</td>\n",
              "      <td>735</td>\n",
              "      <td>25.3</td>\n",
              "      <td>6</td>\n",
              "      <td>f</td>\n",
              "      <td>0.0</td>\n",
              "      <td>0.0</td>\n",
              "      <td>6673.33</td>\n",
              "      <td>6673.33</td>\n",
              "      <td>5400.0</td>\n",
              "      <td>1273.33</td>\n",
              "      <td>0.0</td>\n",
              "      <td>0.0</td>\n",
              "      <td>0.0</td>\n",
              "      <td>20131101T000000</td>\n",
              "      <td>1625.78</td>\n",
              "      <td>NaN</td>\n",
              "      <td>20150201T000000</td>\n",
              "      <td>0</td>\n",
              "      <td>NaN</td>\n",
              "      <td>1</td>\n",
              "      <td>0</td>\n",
              "      <td>Fully Paid</td>\n",
              "      <td>1</td>\n",
              "      <td>0</td>\n",
              "      <td>3</td>\n",
              "      <td>4</td>\n",
              "      <td>1.0</td>\n",
              "      <td>1</td>\n",
              "      <td>1</td>\n",
              "      <td>1</td>\n",
              "      <td>0</td>\n",
              "      <td>12.52070</td>\n",
              "      <td>20140601T000000</td>\n",
              "      <td>1</td>\n",
              "      <td>1</td>\n",
              "      <td>1</td>\n",
              "    </tr>\n",
              "  </tbody>\n",
              "</table>\n",
              "</div>"
            ],
            "text/plain": [
              "       id  member_id  ...  last_record_none  last_major_derog_none\n",
              "0  762032     962526  ...                 1                      1\n",
              "1  815326    1022979  ...                 1                      1\n",
              "2  563689     725339  ...                 1                      1\n",
              "3  756260     949279  ...                 1                      1\n",
              "4  787083     990585  ...                 1                      1\n",
              "\n",
              "[5 rows x 68 columns]"
            ]
          },
          "metadata": {},
          "execution_count": 2
        }
      ]
    },
    {
      "cell_type": "markdown",
      "metadata": {
        "id": "SiWzmuIzT_EG"
      },
      "source": [
        "One of the features we will use in this assignment is the \"grade\" of the loan. We can investigate what this feature, \"grade\", looks like:"
      ]
    },
    {
      "cell_type": "code",
      "metadata": {
        "id": "AzqRjKwlT_EG",
        "colab": {
          "base_uri": "https://localhost:8080/",
          "height": 302
        },
        "outputId": "a25f15e3-9afc-45b2-cb46-86f2d81aacf6"
      },
      "source": [
        "# Want the grades to show up in order from high to low\n",
        "grade_order = sorted(loans['grade'].unique())\n",
        "\n",
        "sns.countplot(x='grade', data=loans, order=grade_order)"
      ],
      "execution_count": 3,
      "outputs": [
        {
          "output_type": "execute_result",
          "data": {
            "text/plain": [
              "<matplotlib.axes._subplots.AxesSubplot at 0x7f54d6f6c690>"
            ]
          },
          "metadata": {},
          "execution_count": 3
        },
        {
          "output_type": "display_data",
          "data": {
            "image/png": "[encoded data removed]",
            "text/plain": [
              "<Figure size 432x288 with 1 Axes>"
            ]
          },
          "metadata": {
            "needs_background": "light"
          }
        }
      ]
    },
    {
      "cell_type": "markdown",
      "metadata": {
        "id": "3l_LOPRvT_EH"
      },
      "source": [
        "We can see that over half of the loan grades are assigned values A or B. Each loan is assigned one of these grades, along with a more finely discretized feature called subgrade (feel free to explore that feature column as well!). These values depend on the loan application and credit report, and determine the interest rate of the loan. More information if you're interested can be found [here](https://www.lendingclub.com/investing/investor-education/interest-rates-and-fees).\n",
        "\n",
        "Now let's look at another feature that will be used, \"home ownership\". This feature describes whether the loanee is mortaging, renting, or owns a home. We can see that a small percentage of the loanees own a home."
      ]
    },
    {
      "cell_type": "code",
      "metadata": {
        "id": "aBOfjt9rT_EH",
        "colab": {
          "base_uri": "https://localhost:8080/",
          "height": 305
        },
        "outputId": "d854da6b-1791-4336-bef0-8a72d99c44ad"
      },
      "source": [
        "ownership_order = sorted(loans['home_ownership'].unique())\n",
        "\n",
        "sns.countplot(x='home_ownership', data=loans, order=ownership_order)"
      ],
      "execution_count": 4,
      "outputs": [
        {
          "output_type": "execute_result",
          "data": {
            "text/plain": [
              "<matplotlib.axes._subplots.AxesSubplot at 0x7f54d6f6c410>"
            ]
          },
          "metadata": {},
          "execution_count": 4
        },
        {
          "output_type": "display_data",
          "data": {
            "image/png": "[encoded data removed]",
            "text/plain": [
              "<Figure size 432x288 with 1 Axes>"
            ]
          },
          "metadata": {
            "needs_background": "light"
          }
        }
      ]
    },
    {
      "cell_type": "markdown",
      "metadata": {
        "id": "SQMLuoMHT_EI"
      },
      "source": [
        "## Investigate Data - Target\n",
        "The target column (label column) of the dataset that we are interested in is called `bad_loans`. In this column 1 means a risky (bad) loan 0 means a safe loan.\n",
        "\n",
        "In order to make this more intuitive and consistent with the lectures, we reassign the target to be:\n",
        "\n",
        "* +1 as a safe loan,\n",
        "* -1 as a risky (bad) loan.\n",
        "\n",
        "We put this in a new column called `safe_loans`. This column will be the target values you will use while training."
      ]
    },
    {
      "cell_type": "code",
      "metadata": {
        "id": "gZOPYGGXT_EJ"
      },
      "source": [
        "loans['safe_loans'] = loans['bad_loans'].apply(lambda x : +1 if x==0 else -1)\n",
        "\n",
        "# Drop the old bad_loans column\n",
        "loans = loans.drop(columns='bad_loans')"
      ],
      "execution_count": 5,
      "outputs": []
    },
    {
      "cell_type": "markdown",
      "metadata": {
        "id": "7GNwIes3T_EJ"
      },
      "source": [
        "Now, let's explore the distribution of values for `safe_loans`. This gives us a sense of how many safe and risky loans are present in the dataset. "
      ]
    },
    {
      "cell_type": "code",
      "metadata": {
        "id": "nzfeEeUtT_EK",
        "colab": {
          "base_uri": "https://localhost:8080/"
        },
        "outputId": "989212ee-ac3e-40da-8c18-7c2591a1837f"
      },
      "source": [
        "only_safe = loans[loans['safe_loans'] == 1]\n",
        "only_bad = loans[loans['safe_loans'] == -1]\n",
        "\n",
        "print(f'Number safe  loans: {len(only_safe)} ({len(only_safe) * 100.0 / len(loans):.2f}%)')\n",
        "print(f'Number risky loans: {len(only_bad)} ({len(only_bad) * 100.0 / len(loans):.2f}%)')"
      ],
      "execution_count": 6,
      "outputs": [
        {
          "output_type": "stream",
          "name": "stdout",
          "text": [
            "Number safe  loans: 8461 (84.61%)\n",
            "Number risky loans: 1539 (15.39%)\n"
          ]
        }
      ]
    },
    {
      "cell_type": "markdown",
      "metadata": {
        "id": "MEHckbgWT_EK"
      },
      "source": [
        "## Investigate Data - Questions\n",
        "\n",
        "### **🔍 Q1) Most frequent grade**\n",
        "Write code to compute the most frequent value in the `'grade'` column of our dataset.  Store the grade as a `str` in the variable `mode_grade`. You may assume that there is no tie in the most frequent grade.\n",
        "\n",
        "**Like all other problems, unless otherwise specified you need to write code to compute this value in the data rather than hard-coding the answer your find by some other means (e.g., looking at the plot above)**"
      ]
    },
    {
      "cell_type": "code",
      "metadata": {
        "id": "YSjne4unT_EK",
        "colab": {
          "base_uri": "https://localhost:8080/",
          "height": 35
        },
        "outputId": "a6a69cb8-9b7e-4b1d-aafc-37e7bdbe1a72"
      },
      "source": [
        "### edTest(test_q1_most_common_loan_grade) ###\n",
        "\n",
        "# TODO write code to find most frequent grade\n",
        "mode_grade = loans['grade'].value_counts().idxmax()\n",
        "mode_grade"
      ],
      "execution_count": 11,
      "outputs": [
        {
          "output_type": "execute_result",
          "data": {
            "application/vnd.google.colaboratory.intrinsic+json": {
              "type": "string"
            },
            "text/plain": [
              "'B'"
            ]
          },
          "metadata": {},
          "execution_count": 11
        }
      ]
    },
    {
      "cell_type": "markdown",
      "metadata": {
        "id": "bUQcAU6nT_EL"
      },
      "source": [
        "### **🔍 Q2) Percentage Rent**\n",
        "What percent of the loans in our dataset are for renting? Write code to compute this number as a value between 0 and 1, and store it in a variable named `percent_rent`."
      ]
    },
    {
      "cell_type": "code",
      "metadata": {
        "id": "S5cvj8yPT_EL",
        "colab": {
          "base_uri": "https://localhost:8080/"
        },
        "outputId": "7fca3934-3a95-4ae2-e244-90283f92e65c"
      },
      "source": [
        "### edTest(test_q2_percent_rent) ###\n",
        "\n",
        "# TODO Write code to find percent of loans for rent\n",
        "num_loan = len(loans[loans['home_ownership'] == 'RENT'])\n",
        "percent_rent = num_loan / len(loans)\n",
        "percent_rent"
      ],
      "execution_count": 12,
      "outputs": [
        {
          "output_type": "execute_result",
          "data": {
            "text/plain": [
              "0.4791"
            ]
          },
          "metadata": {},
          "execution_count": 12
        }
      ]
    },
    {
      "cell_type": "markdown",
      "metadata": {
        "id": "3xT-LBwXT_EL"
      },
      "source": [
        "---\n",
        "\n",
        "# Preprocess Data for Learning\n",
        "In this section, we pre-process the data to make it suitable for ML.\n",
        "\n",
        "## Encode Categorical Features\n",
        "We will be using both numeric and categorical features to predict if a loan is safe or risky. The features are described in code commments in the next cell. "
      ]
    },
    {
      "cell_type": "code",
      "metadata": {
        "id": "_WSYvN0KT_EM",
        "colab": {
          "base_uri": "https://localhost:8080/",
          "height": 203
        },
        "outputId": "5137afb0-d541-4c9d-8d7c-b2b9edd642b6"
      },
      "source": [
        "features = [\n",
        "    'grade',                     # grade of the loan (e.g. A or B)\n",
        "    'sub_grade',                 # sub-grade of the loan (e.g. A1, A2, B1)\n",
        "    'short_emp',                 # one year or less of employment (0 or 1)\n",
        "    'emp_length_num',            # number of years of employment (a number)\n",
        "    'home_ownership',            # home_ownership status (one of own, mortgage, rent or other)\n",
        "    'dti',                       # debt to income ratio (a number)\n",
        "    'purpose',                   # the purpose of the loan (one of many values)\n",
        "    'term',                      # the term of the loan (36 months or 60 months)\n",
        "    'last_delinq_none',          # has borrower had a delinquincy (0 or 1)\n",
        "    'last_major_derog_none',     # has borrower had 90 day or worse rating (0 or 1)\n",
        "    'revol_util',                # percent of available credit being used (number between 0 and 100)\n",
        "    'total_rec_late_fee',        # total late fees received to day (a number)\n",
        "]\n",
        "\n",
        "target = 'safe_loans'                   # prediction target (y) (+1 means safe, -1 is risky)\n",
        "\n",
        "# Extract the feature columns and target column\n",
        "loans = loans[features + [target]]\n",
        "loans.head()"
      ],
      "execution_count": 13,
      "outputs": [
        {
          "output_type": "execute_result",
          "data": {
            "text/html": [
              "<div>\n",
              "<style scoped>\n",
              "    .dataframe tbody tr th:only-of-type {\n",
              "        vertical-align: middle;\n",
              "    }\n",
              "\n",
              "    .dataframe tbody tr th {\n",
              "        vertical-align: top;\n",
              "    }\n",
              "\n",
              "    .dataframe thead th {\n",
              "        text-align: right;\n",
              "    }\n",
              "</style>\n",
              "<table border=\"1\" class=\"dataframe\">\n",
              "  <thead>\n",
              "    <tr style=\"text-align: right;\">\n",
              "      <th></th>\n",
              "      <th>grade</th>\n",
              "      <th>sub_grade</th>\n",
              "      <th>short_emp</th>\n",
              "      <th>emp_length_num</th>\n",
              "      <th>home_ownership</th>\n",
              "      <th>dti</th>\n",
              "      <th>purpose</th>\n",
              "      <th>term</th>\n",
              "      <th>last_delinq_none</th>\n",
              "      <th>last_major_derog_none</th>\n",
              "      <th>revol_util</th>\n",
              "      <th>total_rec_late_fee</th>\n",
              "      <th>safe_loans</th>\n",
              "    </tr>\n",
              "  </thead>\n",
              "  <tbody>\n",
              "    <tr>\n",
              "      <th>0</th>\n",
              "      <td>B</td>\n",
              "      <td>B2</td>\n",
              "      <td>0</td>\n",
              "      <td>2</td>\n",
              "      <td>RENT</td>\n",
              "      <td>1.80</td>\n",
              "      <td>debt_consolidation</td>\n",
              "      <td>36 months</td>\n",
              "      <td>0</td>\n",
              "      <td>1</td>\n",
              "      <td>20.1</td>\n",
              "      <td>0.0</td>\n",
              "      <td>1</td>\n",
              "    </tr>\n",
              "    <tr>\n",
              "      <th>1</th>\n",
              "      <td>E</td>\n",
              "      <td>E5</td>\n",
              "      <td>0</td>\n",
              "      <td>11</td>\n",
              "      <td>MORTGAGE</td>\n",
              "      <td>11.73</td>\n",
              "      <td>medical</td>\n",
              "      <td>60 months</td>\n",
              "      <td>0</td>\n",
              "      <td>1</td>\n",
              "      <td>89.5</td>\n",
              "      <td>0.0</td>\n",
              "      <td>1</td>\n",
              "    </tr>\n",
              "    <tr>\n",
              "      <th>2</th>\n",
              "      <td>A</td>\n",
              "      <td>A4</td>\n",
              "      <td>0</td>\n",
              "      <td>11</td>\n",
              "      <td>MORTGAGE</td>\n",
              "      <td>8.94</td>\n",
              "      <td>other</td>\n",
              "      <td>36 months</td>\n",
              "      <td>0</td>\n",
              "      <td>1</td>\n",
              "      <td>14.1</td>\n",
              "      <td>0.0</td>\n",
              "      <td>1</td>\n",
              "    </tr>\n",
              "    <tr>\n",
              "      <th>3</th>\n",
              "      <td>C</td>\n",
              "      <td>C3</td>\n",
              "      <td>0</td>\n",
              "      <td>3</td>\n",
              "      <td>RENT</td>\n",
              "      <td>0.55</td>\n",
              "      <td>other</td>\n",
              "      <td>60 months</td>\n",
              "      <td>1</td>\n",
              "      <td>1</td>\n",
              "      <td>17.2</td>\n",
              "      <td>0.0</td>\n",
              "      <td>1</td>\n",
              "    </tr>\n",
              "    <tr>\n",
              "      <th>4</th>\n",
              "      <td>C</td>\n",
              "      <td>C5</td>\n",
              "      <td>0</td>\n",
              "      <td>3</td>\n",
              "      <td>RENT</td>\n",
              "      <td>15.47</td>\n",
              "      <td>debt_consolidation</td>\n",
              "      <td>36 months</td>\n",
              "      <td>1</td>\n",
              "      <td>1</td>\n",
              "      <td>25.3</td>\n",
              "      <td>0.0</td>\n",
              "      <td>1</td>\n",
              "    </tr>\n",
              "  </tbody>\n",
              "</table>\n",
              "</div>"
            ],
            "text/plain": [
              "  grade sub_grade  short_emp  ...  revol_util total_rec_late_fee  safe_loans\n",
              "0     B        B2          0  ...        20.1                0.0           1\n",
              "1     E        E5          0  ...        89.5                0.0           1\n",
              "2     A        A4          0  ...        14.1                0.0           1\n",
              "3     C        C3          0  ...        17.2                0.0           1\n",
              "4     C        C5          0  ...        25.3                0.0           1\n",
              "\n",
              "[5 rows x 13 columns]"
            ]
          },
          "metadata": {},
          "execution_count": 13
        }
      ]
    },
    {
      "cell_type": "code",
      "metadata": {
        "id": "4Y6HeWhbT_EM",
        "colab": {
          "base_uri": "https://localhost:8080/"
        },
        "outputId": "e2522d28-d5c0-4fc1-a5c8-d3567efea853"
      },
      "source": [
        "loans.columns"
      ],
      "execution_count": 14,
      "outputs": [
        {
          "output_type": "execute_result",
          "data": {
            "text/plain": [
              "Index(['grade', 'sub_grade', 'short_emp', 'emp_length_num', 'home_ownership',\n",
              "       'dti', 'purpose', 'term', 'last_delinq_none', 'last_major_derog_none',\n",
              "       'revol_util', 'total_rec_late_fee', 'safe_loans'],\n",
              "      dtype='object')"
            ]
          },
          "metadata": {},
          "execution_count": 14
        }
      ]
    },
    {
      "cell_type": "markdown",
      "metadata": {
        "id": "0tBaxqQoT_EM"
      },
      "source": [
        "With how `sklearn` implemented its `DecisionTreeClassifier`, it is only able to handle numerical features; the technical reason being it only allows binary splits and assumes (like other `sklearn` models), that the data is only numerical. This means we need to translate the categorical features into numeric ones. \n",
        "\n",
        "The easiest way to do this is a **one-hot encoding** of each categorical feature. A one hot encoding of a feature creates new, derived, features that take on the value 0 or 1 (one new feature for each possible value of the original). This allows us to turn a categorical feature into a series of binary (0 or 1) numerical features.\n",
        "\n",
        "For examples, if we had the dataset shown below where 'Gender' takes on values 'M' (Male), 'F' (Female), 'O' (Other) and 'HasHouse' takes on values 'Y' (Yes), and 'N' (No). This dataset would not work by default in scikit-learn since it has features with categorical values.\n",
        "\n",
        "| Gender | HasHouse | Age |\n",
        "|--------|----------|-----|\n",
        "| M      | N        | 19  |\n",
        "| F      | Y        | 23  |\n",
        "| O      | Y        | 24  |\n",
        "| F      | N        | 21  |\n",
        "\n",
        "To fix this, we could use a one-hot encoding to transform the categorical features into numeric ones. A one-hot encoding of the categorical features would be \n",
        "\n",
        "| Gender_M | Gender_F | Gender_O | HasHouse_N | HasHouse_Y | Age |\n",
        "|----------|----------|----------|------------|------------|-----|\n",
        "| 1        | 0        | 0        | 1          | 0          | 19  |\n",
        "| 0        | 1        | 0        | 0          | 1          | 23  |\n",
        "| 0        | 0        | 1        | 0          | 1          | 24  |\n",
        "| 0        | 1        | 0        | 1          | 0          | 21  |\n",
        "\n",
        "Note that the original 'Gender' column has been transformed into three related columns 'Gender_M', 'Gender_F', and 'Gender_O' which contains zeros or ones depending on the rows' original value. For each row, only one of these derived columns will contain a one (hence the name one-hot encoding).\n",
        "\n",
        "To do this in `pandas`, we use the `get_dummies()` method (another name for one-hot encoding, is dummy variable). We show the new features of the data after running the function in the next cell."
      ]
    },
    {
      "cell_type": "code",
      "metadata": {
        "id": "eUI2yQAQT_EM",
        "colab": {
          "base_uri": "https://localhost:8080/"
        },
        "outputId": "f9c09dc2-a5d4-4ed4-da3d-6d9cbbacc85c"
      },
      "source": [
        "loans = pd.get_dummies(loans)\n",
        "features = list(loans.columns)\n",
        "features.remove('safe_loans')\n",
        "features"
      ],
      "execution_count": 15,
      "outputs": [
        {
          "output_type": "execute_result",
          "data": {
            "text/plain": [
              "['short_emp',\n",
              " 'emp_length_num',\n",
              " 'dti',\n",
              " 'last_delinq_none',\n",
              " 'last_major_derog_none',\n",
              " 'revol_util',\n",
              " 'total_rec_late_fee',\n",
              " 'grade_A',\n",
              " 'grade_B',\n",
              " 'grade_C',\n",
              " 'grade_D',\n",
              " 'grade_E',\n",
              " 'grade_F',\n",
              " 'grade_G',\n",
              " 'sub_grade_A1',\n",
              " 'sub_grade_A2',\n",
              " 'sub_grade_A3',\n",
              " 'sub_grade_A4',\n",
              " 'sub_grade_A5',\n",
              " 'sub_grade_B1',\n",
              " 'sub_grade_B2',\n",
              " 'sub_grade_B3',\n",
              " 'sub_grade_B4',\n",
              " 'sub_grade_B5',\n",
              " 'sub_grade_C1',\n",
              " 'sub_grade_C2',\n",
              " 'sub_grade_C3',\n",
              " 'sub_grade_C4',\n",
              " 'sub_grade_C5',\n",
              " 'sub_grade_D1',\n",
              " 'sub_grade_D2',\n",
              " 'sub_grade_D3',\n",
              " 'sub_grade_D4',\n",
              " 'sub_grade_D5',\n",
              " 'sub_grade_E1',\n",
              " 'sub_grade_E2',\n",
              " 'sub_grade_E3',\n",
              " 'sub_grade_E4',\n",
              " 'sub_grade_E5',\n",
              " 'sub_grade_F1',\n",
              " 'sub_grade_F2',\n",
              " 'sub_grade_F3',\n",
              " 'sub_grade_F4',\n",
              " 'sub_grade_F5',\n",
              " 'sub_grade_G1',\n",
              " 'sub_grade_G2',\n",
              " 'sub_grade_G3',\n",
              " 'sub_grade_G4',\n",
              " 'sub_grade_G5',\n",
              " 'home_ownership_MORTGAGE',\n",
              " 'home_ownership_OWN',\n",
              " 'home_ownership_RENT',\n",
              " 'purpose_car',\n",
              " 'purpose_credit_card',\n",
              " 'purpose_debt_consolidation',\n",
              " 'purpose_home_improvement',\n",
              " 'purpose_house',\n",
              " 'purpose_major_purchase',\n",
              " 'purpose_medical',\n",
              " 'purpose_moving',\n",
              " 'purpose_other',\n",
              " 'purpose_small_business',\n",
              " 'purpose_vacation',\n",
              " 'purpose_wedding',\n",
              " 'term_36 months',\n",
              " 'term_60 months']"
            ]
          },
          "metadata": {},
          "execution_count": 15
        }
      ]
    },
    {
      "cell_type": "markdown",
      "metadata": {
        "id": "3Xvyx0-kT_EN"
      },
      "source": [
        "Here is a preview of the new dataset. Notice our categorical features have become 0/1s represented over many columns (e.g. \"grade\" becamse \"grade_A\" through \"grade_F\")."
      ]
    },
    {
      "cell_type": "code",
      "metadata": {
        "id": "nmOnK7WdT_EN",
        "colab": {
          "base_uri": "https://localhost:8080/",
          "height": 240
        },
        "outputId": "cb624ea4-7114-4718-a83f-33bf6517fca2"
      },
      "source": [
        "loans.head()"
      ],
      "execution_count": 16,
      "outputs": [
        {
          "output_type": "execute_result",
          "data": {
            "text/html": [
              "<div>\n",
              "<style scoped>\n",
              "    .dataframe tbody tr th:only-of-type {\n",
              "        vertical-align: middle;\n",
              "    }\n",
              "\n",
              "    .dataframe tbody tr th {\n",
              "        vertical-align: top;\n",
              "    }\n",
              "\n",
              "    .dataframe thead th {\n",
              "        text-align: right;\n",
              "    }\n",
              "</style>\n",
              "<table border=\"1\" class=\"dataframe\">\n",
              "  <thead>\n",
              "    <tr style=\"text-align: right;\">\n",
              "      <th></th>\n",
              "      <th>short_emp</th>\n",
              "      <th>emp_length_num</th>\n",
              "      <th>dti</th>\n",
              "      <th>last_delinq_none</th>\n",
              "      <th>last_major_derog_none</th>\n",
              "      <th>revol_util</th>\n",
              "      <th>total_rec_late_fee</th>\n",
              "      <th>safe_loans</th>\n",
              "      <th>grade_A</th>\n",
              "      <th>grade_B</th>\n",
              "      <th>grade_C</th>\n",
              "      <th>grade_D</th>\n",
              "      <th>grade_E</th>\n",
              "      <th>grade_F</th>\n",
              "      <th>grade_G</th>\n",
              "      <th>sub_grade_A1</th>\n",
              "      <th>sub_grade_A2</th>\n",
              "      <th>sub_grade_A3</th>\n",
              "      <th>sub_grade_A4</th>\n",
              "      <th>sub_grade_A5</th>\n",
              "      <th>sub_grade_B1</th>\n",
              "      <th>sub_grade_B2</th>\n",
              "      <th>sub_grade_B3</th>\n",
              "      <th>sub_grade_B4</th>\n",
              "      <th>sub_grade_B5</th>\n",
              "      <th>sub_grade_C1</th>\n",
              "      <th>sub_grade_C2</th>\n",
              "      <th>sub_grade_C3</th>\n",
              "      <th>sub_grade_C4</th>\n",
              "      <th>sub_grade_C5</th>\n",
              "      <th>sub_grade_D1</th>\n",
              "      <th>sub_grade_D2</th>\n",
              "      <th>sub_grade_D3</th>\n",
              "      <th>sub_grade_D4</th>\n",
              "      <th>sub_grade_D5</th>\n",
              "      <th>sub_grade_E1</th>\n",
              "      <th>sub_grade_E2</th>\n",
              "      <th>sub_grade_E3</th>\n",
              "      <th>sub_grade_E4</th>\n",
              "      <th>sub_grade_E5</th>\n",
              "      <th>sub_grade_F1</th>\n",
              "      <th>sub_grade_F2</th>\n",
              "      <th>sub_grade_F3</th>\n",
              "      <th>sub_grade_F4</th>\n",
              "      <th>sub_grade_F5</th>\n",
              "      <th>sub_grade_G1</th>\n",
              "      <th>sub_grade_G2</th>\n",
              "      <th>sub_grade_G3</th>\n",
              "      <th>sub_grade_G4</th>\n",
              "      <th>sub_grade_G5</th>\n",
              "      <th>home_ownership_MORTGAGE</th>\n",
              "      <th>home_ownership_OWN</th>\n",
              "      <th>home_ownership_RENT</th>\n",
              "      <th>purpose_car</th>\n",
              "      <th>purpose_credit_card</th>\n",
              "      <th>purpose_debt_consolidation</th>\n",
              "      <th>purpose_home_improvement</th>\n",
              "      <th>purpose_house</th>\n",
              "      <th>purpose_major_purchase</th>\n",
              "      <th>purpose_medical</th>\n",
              "      <th>purpose_moving</th>\n",
              "      <th>purpose_other</th>\n",
              "      <th>purpose_small_business</th>\n",
              "      <th>purpose_vacation</th>\n",
              "      <th>purpose_wedding</th>\n",
              "      <th>term_36 months</th>\n",
              "      <th>term_60 months</th>\n",
              "    </tr>\n",
              "  </thead>\n",
              "  <tbody>\n",
              "    <tr>\n",
              "      <th>0</th>\n",
              "      <td>0</td>\n",
              "      <td>2</td>\n",
              "      <td>1.80</td>\n",
              "      <td>0</td>\n",
              "      <td>1</td>\n",
              "      <td>20.1</td>\n",
              "      <td>0.0</td>\n",
              "      <td>1</td>\n",
              "      <td>0</td>\n",
              "      <td>1</td>\n",
              "      <td>0</td>\n",
              "      <td>0</td>\n",
              "      <td>0</td>\n",
              "      <td>0</td>\n",
              "      <td>0</td>\n",
              "      <td>0</td>\n",
              "      <td>0</td>\n",
              "      <td>0</td>\n",
              "      <td>0</td>\n",
              "      <td>0</td>\n",
              "      <td>0</td>\n",
              "      <td>1</td>\n",
              "      <td>0</td>\n",
              "      <td>0</td>\n",
              "      <td>0</td>\n",
              "      <td>0</td>\n",
              "      <td>0</td>\n",
              "      <td>0</td>\n",
              "      <td>0</td>\n",
              "      <td>0</td>\n",
              "      <td>0</td>\n",
              "      <td>0</td>\n",
              "      <td>0</td>\n",
              "      <td>0</td>\n",
              "      <td>0</td>\n",
              "      <td>0</td>\n",
              "      <td>0</td>\n",
              "      <td>0</td>\n",
              "      <td>0</td>\n",
              "      <td>0</td>\n",
              "      <td>0</td>\n",
              "      <td>0</td>\n",
              "      <td>0</td>\n",
              "      <td>0</td>\n",
              "      <td>0</td>\n",
              "      <td>0</td>\n",
              "      <td>0</td>\n",
              "      <td>0</td>\n",
              "      <td>0</td>\n",
              "      <td>0</td>\n",
              "      <td>0</td>\n",
              "      <td>0</td>\n",
              "      <td>1</td>\n",
              "      <td>0</td>\n",
              "      <td>0</td>\n",
              "      <td>1</td>\n",
              "      <td>0</td>\n",
              "      <td>0</td>\n",
              "      <td>0</td>\n",
              "      <td>0</td>\n",
              "      <td>0</td>\n",
              "      <td>0</td>\n",
              "      <td>0</td>\n",
              "      <td>0</td>\n",
              "      <td>0</td>\n",
              "      <td>1</td>\n",
              "      <td>0</td>\n",
              "    </tr>\n",
              "    <tr>\n",
              "      <th>1</th>\n",
              "      <td>0</td>\n",
              "      <td>11</td>\n",
              "      <td>11.73</td>\n",
              "      <td>0</td>\n",
              "      <td>1</td>\n",
              "      <td>89.5</td>\n",
              "      <td>0.0</td>\n",
              "      <td>1</td>\n",
              "      <td>0</td>\n",
              "      <td>0</td>\n",
              "      <td>0</td>\n",
              "      <td>0</td>\n",
              "      <td>1</td>\n",
              "      <td>0</td>\n",
              "      <td>0</td>\n",
              "      <td>0</td>\n",
              "      <td>0</td>\n",
              "      <td>0</td>\n",
              "      <td>0</td>\n",
              "      <td>0</td>\n",
              "      <td>0</td>\n",
              "      <td>0</td>\n",
              "      <td>0</td>\n",
              "      <td>0</td>\n",
              "      <td>0</td>\n",
              "      <td>0</td>\n",
              "      <td>0</td>\n",
              "      <td>0</td>\n",
              "      <td>0</td>\n",
              "      <td>0</td>\n",
              "      <td>0</td>\n",
              "      <td>0</td>\n",
              "      <td>0</td>\n",
              "      <td>0</td>\n",
              "      <td>0</td>\n",
              "      <td>0</td>\n",
              "      <td>0</td>\n",
              "      <td>0</td>\n",
              "      <td>0</td>\n",
              "      <td>1</td>\n",
              "      <td>0</td>\n",
              "      <td>0</td>\n",
              "      <td>0</td>\n",
              "      <td>0</td>\n",
              "      <td>0</td>\n",
              "      <td>0</td>\n",
              "      <td>0</td>\n",
              "      <td>0</td>\n",
              "      <td>0</td>\n",
              "      <td>0</td>\n",
              "      <td>1</td>\n",
              "      <td>0</td>\n",
              "      <td>0</td>\n",
              "      <td>0</td>\n",
              "      <td>0</td>\n",
              "      <td>0</td>\n",
              "      <td>0</td>\n",
              "      <td>0</td>\n",
              "      <td>0</td>\n",
              "      <td>1</td>\n",
              "      <td>0</td>\n",
              "      <td>0</td>\n",
              "      <td>0</td>\n",
              "      <td>0</td>\n",
              "      <td>0</td>\n",
              "      <td>0</td>\n",
              "      <td>1</td>\n",
              "    </tr>\n",
              "    <tr>\n",
              "      <th>2</th>\n",
              "      <td>0</td>\n",
              "      <td>11</td>\n",
              "      <td>8.94</td>\n",
              "      <td>0</td>\n",
              "      <td>1</td>\n",
              "      <td>14.1</td>\n",
              "      <td>0.0</td>\n",
              "      <td>1</td>\n",
              "      <td>1</td>\n",
              "      <td>0</td>\n",
              "      <td>0</td>\n",
              "      <td>0</td>\n",
              "      <td>0</td>\n",
              "      <td>0</td>\n",
              "      <td>0</td>\n",
              "      <td>0</td>\n",
              "      <td>0</td>\n",
              "      <td>0</td>\n",
              "      <td>1</td>\n",
              "      <td>0</td>\n",
              "      <td>0</td>\n",
              "      <td>0</td>\n",
              "      <td>0</td>\n",
              "      <td>0</td>\n",
              "      <td>0</td>\n",
              "      <td>0</td>\n",
              "      <td>0</td>\n",
              "      <td>0</td>\n",
              "      <td>0</td>\n",
              "      <td>0</td>\n",
              "      <td>0</td>\n",
              "      <td>0</td>\n",
              "      <td>0</td>\n",
              "      <td>0</td>\n",
              "      <td>0</td>\n",
              "      <td>0</td>\n",
              "      <td>0</td>\n",
              "      <td>0</td>\n",
              "      <td>0</td>\n",
              "      <td>0</td>\n",
              "      <td>0</td>\n",
              "      <td>0</td>\n",
              "      <td>0</td>\n",
              "      <td>0</td>\n",
              "      <td>0</td>\n",
              "      <td>0</td>\n",
              "      <td>0</td>\n",
              "      <td>0</td>\n",
              "      <td>0</td>\n",
              "      <td>0</td>\n",
              "      <td>1</td>\n",
              "      <td>0</td>\n",
              "      <td>0</td>\n",
              "      <td>0</td>\n",
              "      <td>0</td>\n",
              "      <td>0</td>\n",
              "      <td>0</td>\n",
              "      <td>0</td>\n",
              "      <td>0</td>\n",
              "      <td>0</td>\n",
              "      <td>0</td>\n",
              "      <td>1</td>\n",
              "      <td>0</td>\n",
              "      <td>0</td>\n",
              "      <td>0</td>\n",
              "      <td>1</td>\n",
              "      <td>0</td>\n",
              "    </tr>\n",
              "    <tr>\n",
              "      <th>3</th>\n",
              "      <td>0</td>\n",
              "      <td>3</td>\n",
              "      <td>0.55</td>\n",
              "      <td>1</td>\n",
              "      <td>1</td>\n",
              "      <td>17.2</td>\n",
              "      <td>0.0</td>\n",
              "      <td>1</td>\n",
              "      <td>0</td>\n",
              "      <td>0</td>\n",
              "      <td>1</td>\n",
              "      <td>0</td>\n",
              "      <td>0</td>\n",
              "      <td>0</td>\n",
              "      <td>0</td>\n",
              "      <td>0</td>\n",
              "      <td>0</td>\n",
              "      <td>0</td>\n",
              "      <td>0</td>\n",
              "      <td>0</td>\n",
              "      <td>0</td>\n",
              "      <td>0</td>\n",
              "      <td>0</td>\n",
              "      <td>0</td>\n",
              "      <td>0</td>\n",
              "      <td>0</td>\n",
              "      <td>0</td>\n",
              "      <td>1</td>\n",
              "      <td>0</td>\n",
              "      <td>0</td>\n",
              "      <td>0</td>\n",
              "      <td>0</td>\n",
              "      <td>0</td>\n",
              "      <td>0</td>\n",
              "      <td>0</td>\n",
              "      <td>0</td>\n",
              "      <td>0</td>\n",
              "      <td>0</td>\n",
              "      <td>0</td>\n",
              "      <td>0</td>\n",
              "      <td>0</td>\n",
              "      <td>0</td>\n",
              "      <td>0</td>\n",
              "      <td>0</td>\n",
              "      <td>0</td>\n",
              "      <td>0</td>\n",
              "      <td>0</td>\n",
              "      <td>0</td>\n",
              "      <td>0</td>\n",
              "      <td>0</td>\n",
              "      <td>0</td>\n",
              "      <td>0</td>\n",
              "      <td>1</td>\n",
              "      <td>0</td>\n",
              "      <td>0</td>\n",
              "      <td>0</td>\n",
              "      <td>0</td>\n",
              "      <td>0</td>\n",
              "      <td>0</td>\n",
              "      <td>0</td>\n",
              "      <td>0</td>\n",
              "      <td>1</td>\n",
              "      <td>0</td>\n",
              "      <td>0</td>\n",
              "      <td>0</td>\n",
              "      <td>0</td>\n",
              "      <td>1</td>\n",
              "    </tr>\n",
              "    <tr>\n",
              "      <th>4</th>\n",
              "      <td>0</td>\n",
              "      <td>3</td>\n",
              "      <td>15.47</td>\n",
              "      <td>1</td>\n",
              "      <td>1</td>\n",
              "      <td>25.3</td>\n",
              "      <td>0.0</td>\n",
              "      <td>1</td>\n",
              "      <td>0</td>\n",
              "      <td>0</td>\n",
              "      <td>1</td>\n",
              "      <td>0</td>\n",
              "      <td>0</td>\n",
              "      <td>0</td>\n",
              "      <td>0</td>\n",
              "      <td>0</td>\n",
              "      <td>0</td>\n",
              "      <td>0</td>\n",
              "      <td>0</td>\n",
              "      <td>0</td>\n",
              "      <td>0</td>\n",
              "      <td>0</td>\n",
              "      <td>0</td>\n",
              "      <td>0</td>\n",
              "      <td>0</td>\n",
              "      <td>0</td>\n",
              "      <td>0</td>\n",
              "      <td>0</td>\n",
              "      <td>0</td>\n",
              "      <td>1</td>\n",
              "      <td>0</td>\n",
              "      <td>0</td>\n",
              "      <td>0</td>\n",
              "      <td>0</td>\n",
              "      <td>0</td>\n",
              "      <td>0</td>\n",
              "      <td>0</td>\n",
              "      <td>0</td>\n",
              "      <td>0</td>\n",
              "      <td>0</td>\n",
              "      <td>0</td>\n",
              "      <td>0</td>\n",
              "      <td>0</td>\n",
              "      <td>0</td>\n",
              "      <td>0</td>\n",
              "      <td>0</td>\n",
              "      <td>0</td>\n",
              "      <td>0</td>\n",
              "      <td>0</td>\n",
              "      <td>0</td>\n",
              "      <td>0</td>\n",
              "      <td>0</td>\n",
              "      <td>1</td>\n",
              "      <td>0</td>\n",
              "      <td>0</td>\n",
              "      <td>1</td>\n",
              "      <td>0</td>\n",
              "      <td>0</td>\n",
              "      <td>0</td>\n",
              "      <td>0</td>\n",
              "      <td>0</td>\n",
              "      <td>0</td>\n",
              "      <td>0</td>\n",
              "      <td>0</td>\n",
              "      <td>0</td>\n",
              "      <td>1</td>\n",
              "      <td>0</td>\n",
              "    </tr>\n",
              "  </tbody>\n",
              "</table>\n",
              "</div>"
            ],
            "text/plain": [
              "   short_emp  emp_length_num  ...  term_36 months  term_60 months\n",
              "0          0               2  ...               1               0\n",
              "1          0              11  ...               0               1\n",
              "2          0              11  ...               1               0\n",
              "3          0               3  ...               0               1\n",
              "4          0               3  ...               1               0\n",
              "\n",
              "[5 rows x 67 columns]"
            ]
          },
          "metadata": {},
          "execution_count": 16
        }
      ]
    },
    {
      "cell_type": "markdown",
      "metadata": {
        "id": "sBIXNWneT_EN"
      },
      "source": [
        "---\n",
        "# Model Training\n",
        "In this section, you will start writing code to train the decision tree model. \n",
        "\n",
        "First we split the data into 80% training data and 20% validation data. For this assignment, we will not use a test set since we aren't going to be deploying this model in the future and don't need to make a claim on our accuracy guarantee. "
      ]
    },
    {
      "cell_type": "code",
      "metadata": {
        "id": "pMV8CctDT_EN"
      },
      "source": [
        "from sklearn.model_selection import train_test_split\n",
        "\n",
        "train_data, validation_data = train_test_split(loans, test_size=0.2, random_state=5)"
      ],
      "execution_count": 17,
      "outputs": []
    },
    {
      "cell_type": "markdown",
      "metadata": {
        "id": "BlvnFPH0T_EN"
      },
      "source": [
        "## **🔍 Q3) Train first classifier**\n",
        "\n",
        "Now let's use `sklearn`'s `DecisionTreeClassifier` (documentation [here](https://scikit-learn.org/stable/modules/generated/sklearn.tree.DecisionTreeClassifier.html)) \n",
        "to create a loan-safety prediction model on the training data. \n",
        "\n",
        "Train a decision tree classifier for this data. When creating the model you should only pass in the values `max_depth=6` and `random_state=6` (to make sure we get the same values). Use the features and target defined earlier when training the model on the training data. Save the tree in a variable called `decision_tree_model`."
      ]
    },
    {
      "cell_type": "code",
      "metadata": {
        "id": "AmTPTk5tT_EN"
      },
      "source": [
        "### edTest(test_q3_decision_tree_model) ###\n",
        "\n",
        "from sklearn.tree import DecisionTreeClassifier\n",
        "\n",
        "# TODO train a model with max_depth=6\n",
        "decision_tree_model = DecisionTreeClassifier(max_depth = 6, random_state = 6).fit(train_data[features], train_data[target])"
      ],
      "execution_count": 18,
      "outputs": []
    },
    {
      "cell_type": "markdown",
      "metadata": {
        "id": "Evg2YmXVT_EO"
      },
      "source": [
        "Next, we want you to visualize what the tree looks like. In the cell below, we have defined a function to visualize the tree. \n",
        "\n",
        "Visualizing a depth 7 tree can be hard, so instead we will train another model stored in a variable called `small_tree_model` that has `max_depth=2`.\n",
        "\n",
        "Installing Graphviz (especially on Windows) can be kind of tricky. If the code below doesn't run correctly, we provide an image to the picture you should have seen! "
      ]
    },
    {
      "cell_type": "code",
      "metadata": {
        "id": "HJa_muPXT_EO",
        "colab": {
          "base_uri": "https://localhost:8080/",
          "height": 380
        },
        "outputId": "2f8e4ebc-05b9-46bd-af43-deaeb259ce1f"
      },
      "source": [
        "import graphviz\n",
        "from sklearn import tree\n",
        "\n",
        "\n",
        "def draw_tree(tree_model, features):\n",
        "    \"\"\"\n",
        "    visualizes a Decision Tree\n",
        "    \"\"\"\n",
        "    tree_data = tree.export_graphviz(tree_model, \n",
        "                                    impurity=False, \n",
        "                                    feature_names=features,\n",
        "                                    class_names=tree_model.classes_.astype(str),\n",
        "                                    filled=True,\n",
        "                                    out_file=None)\n",
        "    graph = graphviz.Source(tree_data) \n",
        "    display(graph)\n",
        "    \n",
        "small_tree_model = DecisionTreeClassifier(max_depth=2, random_state=6)\n",
        "small_tree_model.fit(train_data[features], train_data[target])\n",
        "draw_tree(small_tree_model, features)"
      ],
      "execution_count": 19,
      "outputs": [
        {
          "output_type": "display_data",
          "data": {
            "text/plain": [
              "<graphviz.files.Source at 0x7f54d2a1cf90>"
            ],
            "image/svg+xml": "<?xml version=\"1.0\" encoding=\"UTF-8\" standalone=\"no\"?>\n<!DOCTYPE svg PUBLIC \"-//W3C//DTD SVG 1.1//EN\"\n \"http://www.w3.org/Graphics/SVG/1.1/DTD/svg11.dtd\">\n<!-- Generated by graphviz version 2.40.1 (20161225.0304)\n -->\n<!-- Title: Tree Pages: 1 -->\n<svg width=\"580pt\" height=\"269pt\"\n viewBox=\"0.00 0.00 580.00 269.00\" xmlns=\"http://www.w3.org/2000/svg\" xmlns:xlink=\"http://www.w3.org/1999/xlink\">\n<g id=\"graph0\" class=\"graph\" transform=\"scale(1 1) rotate(0) translate(4 265)\">\n<title>Tree</title>\n<polygon fill=\"#ffffff\" stroke=\"transparent\" points=\"-4,4 -4,-265 576,-265 576,4 -4,4\"/>\n<!-- 0 -->\n<g id=\"node1\" class=\"node\">\n<title>0</title>\n<polygon fill=\"#5dafea\" stroke=\"#000000\" points=\"370,-261 216,-261 216,-193 370,-193 370,-261\"/>\n<text text-anchor=\"middle\" x=\"293\" y=\"-245.8\" font-family=\"Times,serif\" font-size=\"14.00\" fill=\"#000000\">term_60 months &lt;= 0.5</text>\n<text text-anchor=\"middle\" x=\"293\" y=\"-230.8\" font-family=\"Times,serif\" font-size=\"14.00\" fill=\"#000000\">samples = 8000</text>\n<text text-anchor=\"middle\" x=\"293\" y=\"-215.8\" font-family=\"Times,serif\" font-size=\"14.00\" fill=\"#000000\">value = [1220, 6780]</text>\n<text text-anchor=\"middle\" x=\"293\" y=\"-200.8\" font-family=\"Times,serif\" font-size=\"14.00\" fill=\"#000000\">class = 1</text>\n</g>\n<!-- 1 -->\n<g id=\"node2\" class=\"node\">\n<title>1</title>\n<polygon fill=\"#50a9e8\" stroke=\"#000000\" points=\"286,-157 104,-157 104,-89 286,-89 286,-157\"/>\n<text text-anchor=\"middle\" x=\"195\" y=\"-141.8\" font-family=\"Times,serif\" font-size=\"14.00\" fill=\"#000000\">total_rec_late_fee &lt;= 14.922</text>\n<text text-anchor=\"middle\" x=\"195\" y=\"-126.8\" font-family=\"Times,serif\" font-size=\"14.00\" fill=\"#000000\">samples = 6272</text>\n<text text-anchor=\"middle\" x=\"195\" y=\"-111.8\" font-family=\"Times,serif\" font-size=\"14.00\" fill=\"#000000\">value = [664, 5608]</text>\n<text text-anchor=\"middle\" x=\"195\" y=\"-96.8\" font-family=\"Times,serif\" font-size=\"14.00\" fill=\"#000000\">class = 1</text>\n</g>\n<!-- 0&#45;&gt;1 -->\n<g id=\"edge1\" class=\"edge\">\n<title>0&#45;&gt;1</title>\n<path fill=\"none\" stroke=\"#000000\" d=\"M260.9111,-192.9465C252.366,-183.8782 243.0387,-173.9799 234.1609,-164.5585\"/>\n<polygon fill=\"#000000\" stroke=\"#000000\" points=\"236.5663,-162.0076 227.161,-157.13 231.4717,-166.8082 236.5663,-162.0076\"/>\n<text text-anchor=\"middle\" x=\"226.4187\" y=\"-178.419\" font-family=\"Times,serif\" font-size=\"14.00\" fill=\"#000000\">True</text>\n</g>\n<!-- 4 -->\n<g id=\"node5\" class=\"node\">\n<title>4</title>\n<polygon fill=\"#97cbf1\" stroke=\"#000000\" points=\"478,-157 304,-157 304,-89 478,-89 478,-157\"/>\n<text text-anchor=\"middle\" x=\"391\" y=\"-141.8\" font-family=\"Times,serif\" font-size=\"14.00\" fill=\"#000000\">total_rec_late_fee &lt;= 7.431</text>\n<text text-anchor=\"middle\" x=\"391\" y=\"-126.8\" font-family=\"Times,serif\" font-size=\"14.00\" fill=\"#000000\">samples = 1728</text>\n<text text-anchor=\"middle\" x=\"391\" y=\"-111.8\" font-family=\"Times,serif\" font-size=\"14.00\" fill=\"#000000\">value = [556, 1172]</text>\n<text text-anchor=\"middle\" x=\"391\" y=\"-96.8\" font-family=\"Times,serif\" font-size=\"14.00\" fill=\"#000000\">class = 1</text>\n</g>\n<!-- 0&#45;&gt;4 -->\n<g id=\"edge4\" class=\"edge\">\n<title>0&#45;&gt;4</title>\n<path fill=\"none\" stroke=\"#000000\" d=\"M325.0889,-192.9465C333.634,-183.8782 342.9613,-173.9799 351.8391,-164.5585\"/>\n<polygon fill=\"#000000\" stroke=\"#000000\" points=\"354.5283,-166.8082 358.839,-157.13 349.4337,-162.0076 354.5283,-166.8082\"/>\n<text text-anchor=\"middle\" x=\"359.5813\" y=\"-178.419\" font-family=\"Times,serif\" font-size=\"14.00\" fill=\"#000000\">False</text>\n</g>\n<!-- 2 -->\n<g id=\"node3\" class=\"node\">\n<title>2</title>\n<polygon fill=\"#4ea7e8\" stroke=\"#000000\" points=\"132,-53 0,-53 0,0 132,0 132,-53\"/>\n<text text-anchor=\"middle\" x=\"66\" y=\"-37.8\" font-family=\"Times,serif\" font-size=\"14.00\" fill=\"#000000\">samples = 6017</text>\n<text text-anchor=\"middle\" x=\"66\" y=\"-22.8\" font-family=\"Times,serif\" font-size=\"14.00\" fill=\"#000000\">value = [578, 5439]</text>\n<text text-anchor=\"middle\" x=\"66\" y=\"-7.8\" font-family=\"Times,serif\" font-size=\"14.00\" fill=\"#000000\">class = 1</text>\n</g>\n<!-- 1&#45;&gt;2 -->\n<g id=\"edge2\" class=\"edge\">\n<title>1&#45;&gt;2</title>\n<path fill=\"none\" stroke=\"#000000\" d=\"M149.5194,-88.9777C136.6665,-79.3629 122.7069,-68.9203 109.946,-59.3743\"/>\n<polygon fill=\"#000000\" stroke=\"#000000\" points=\"111.861,-56.436 101.757,-53.2485 107.668,-62.0412 111.861,-56.436\"/>\n</g>\n<!-- 3 -->\n<g id=\"node4\" class=\"node\">\n<title>3</title>\n<polygon fill=\"#9ecff2\" stroke=\"#000000\" points=\"267.5,-53 150.5,-53 150.5,0 267.5,0 267.5,-53\"/>\n<text text-anchor=\"middle\" x=\"209\" y=\"-37.8\" font-family=\"Times,serif\" font-size=\"14.00\" fill=\"#000000\">samples = 255</text>\n<text text-anchor=\"middle\" x=\"209\" y=\"-22.8\" font-family=\"Times,serif\" font-size=\"14.00\" fill=\"#000000\">value = [86, 169]</text>\n<text text-anchor=\"middle\" x=\"209\" y=\"-7.8\" font-family=\"Times,serif\" font-size=\"14.00\" fill=\"#000000\">class = 1</text>\n</g>\n<!-- 1&#45;&gt;3 -->\n<g id=\"edge3\" class=\"edge\">\n<title>1&#45;&gt;3</title>\n<path fill=\"none\" stroke=\"#000000\" d=\"M199.9359,-88.9777C201.1448,-80.6449 202.4439,-71.6903 203.6704,-63.2364\"/>\n<polygon fill=\"#000000\" stroke=\"#000000\" points=\"207.1473,-63.6474 205.1194,-53.2485 200.2198,-62.6423 207.1473,-63.6474\"/>\n</g>\n<!-- 5 -->\n<g id=\"node6\" class=\"node\">\n<title>5</title>\n<polygon fill=\"#91c8f0\" stroke=\"#000000\" points=\"443.5,-53 312.5,-53 312.5,0 443.5,0 443.5,-53\"/>\n<text text-anchor=\"middle\" x=\"378\" y=\"-37.8\" font-family=\"Times,serif\" font-size=\"14.00\" fill=\"#000000\">samples = 1651</text>\n<text text-anchor=\"middle\" x=\"378\" y=\"-22.8\" font-family=\"Times,serif\" font-size=\"14.00\" fill=\"#000000\">value = [506, 1145]</text>\n<text text-anchor=\"middle\" x=\"378\" y=\"-7.8\" font-family=\"Times,serif\" font-size=\"14.00\" fill=\"#000000\">class = 1</text>\n</g>\n<!-- 4&#45;&gt;5 -->\n<g id=\"edge5\" class=\"edge\">\n<title>4&#45;&gt;5</title>\n<path fill=\"none\" stroke=\"#000000\" d=\"M386.4167,-88.9777C385.2941,-80.6449 384.0878,-71.6903 382.949,-63.2364\"/>\n<polygon fill=\"#000000\" stroke=\"#000000\" points=\"386.4073,-62.6916 381.6034,-53.2485 379.4699,-63.6263 386.4073,-62.6916\"/>\n</g>\n<!-- 6 -->\n<g id=\"node7\" class=\"node\">\n<title>6</title>\n<polygon fill=\"#f3c5a4\" stroke=\"#000000\" points=\"572,-53 462,-53 462,0 572,0 572,-53\"/>\n<text text-anchor=\"middle\" x=\"517\" y=\"-37.8\" font-family=\"Times,serif\" font-size=\"14.00\" fill=\"#000000\">samples = 77</text>\n<text text-anchor=\"middle\" x=\"517\" y=\"-22.8\" font-family=\"Times,serif\" font-size=\"14.00\" fill=\"#000000\">value = [50, 27]</text>\n<text text-anchor=\"middle\" x=\"517\" y=\"-7.8\" font-family=\"Times,serif\" font-size=\"14.00\" fill=\"#000000\">class = &#45;1</text>\n</g>\n<!-- 4&#45;&gt;6 -->\n<g id=\"edge6\" class=\"edge\">\n<title>4&#45;&gt;6</title>\n<path fill=\"none\" stroke=\"#000000\" d=\"M435.4229,-88.9777C447.977,-79.3629 461.6119,-68.9203 474.076,-59.3743\"/>\n<polygon fill=\"#000000\" stroke=\"#000000\" points=\"476.2635,-62.1076 482.0745,-53.2485 472.0073,-56.5502 476.2635,-62.1076\"/>\n</g>\n</g>\n</svg>\n"
          },
          "metadata": {}
        }
      ]
    },
    {
      "cell_type": "markdown",
      "metadata": {
        "id": "nbH1bAfBT_EO"
      },
      "source": [
        "Each node in the tree shows\n",
        "* If it's an internal node, show what feature and value it splits on\n",
        "* `samples`: The number of samples at that node\n",
        "* `value`: The counts for each label at that node\n",
        "* `class`: The majority class at that node\n",
        "* The color showing how confident it is in the predictions at that node (blue is class +1, orange is class -1, white is in between). This corresponds to the probability of it predicting a certain label.\n",
        "\n",
        "## Making Predictions\n",
        "Now that we have trained the model, let's look at how it makes predictions on our data.\n",
        "\n",
        "### **🔍 Q4) Accuracies**\n",
        "Compute the training accuracy and validation accuracy using both your `decision_tree_model`. Calculate which percentage of those examples it classified correctly as a number between 0 and 1. So for this problem, you will need to make two variables:\n",
        "* `decision_train_accuracy` for `decision_tree_model`'s training accuracy\n",
        "* `decision_validation_accuracy` for `decision_tree_model`'s validation accuracy"
      ]
    },
    {
      "cell_type": "code",
      "metadata": {
        "id": "vNPVm4WwT_EO",
        "colab": {
          "base_uri": "https://localhost:8080/"
        },
        "outputId": "32a64636-b41d-4bc9-d392-82937d5aeb1b"
      },
      "source": [
        "### edTest(test_q4_validation_accuracy) ###\n",
        "\n",
        "#TODO Find validation accuracy\n",
        "from sklearn.metrics import accuracy_score\n",
        "\n",
        "decision_train_accuracy = accuracy_score(train_data[target], decision_tree_model.predict(train_data[features]))\n",
        "decision_validation_accuracy = accuracy_score(validation_data[target], decision_tree_model.predict(validation_data[features]))\n",
        "\n",
        "print(decision_train_accuracy)\n",
        "print(decision_validation_accuracy)"
      ],
      "execution_count": 20,
      "outputs": [
        {
          "output_type": "stream",
          "name": "stdout",
          "text": [
            "0.859375\n",
            "0.8355\n"
          ]
        }
      ]
    },
    {
      "cell_type": "markdown",
      "metadata": {
        "id": "g3A9NDHNT_EP"
      },
      "source": [
        "### **🔍 Q5) Tall Tree**\n",
        "Next, you should train another decision tree model with `max_depth=10` (remember to also pass in `random_state=6`!). This will make a much deeper tree. \n",
        "\n",
        "In the cell below, train the model on the training data and report its training and validation accuracy. Save the model in a variable called `big_tree_model`, the training accuracy in a variable called `big_train_accuracy` and validation accuracy `big_validation_accuracy`.\n",
        "\n",
        "Look back at the values in the last question to see if your values here make sense with what you know about heights of trees."
      ]
    },
    {
      "cell_type": "code",
      "metadata": {
        "id": "hUpGjl6XT_EP",
        "colab": {
          "base_uri": "https://localhost:8080/"
        },
        "outputId": "f95d0eca-2e22-4b3c-98bf-377c08f51638"
      },
      "source": [
        "### edTest(test_q5_big_tree) ###\n",
        "\n",
        "# TODO train a model with max_depth=10\n",
        "big_tree_model = DecisionTreeClassifier(max_depth = 10, random_state = 6).fit(train_data[features], train_data[target])\n",
        "\n",
        "big_train_accuracy = accuracy_score(train_data[target], big_tree_model.predict(train_data[features]))\n",
        "big_validation_accuracy = accuracy_score(validation_data[target], big_tree_model.predict(validation_data[features]))\n",
        "\n",
        "print(big_train_accuracy)\n",
        "print(big_validation_accuracy)"
      ],
      "execution_count": 23,
      "outputs": [
        {
          "output_type": "stream",
          "name": "stdout",
          "text": [
            "0.884125\n",
            "0.826\n"
          ]
        }
      ]
    },
    {
      "cell_type": "markdown",
      "metadata": {
        "id": "GtfLTcJHT_EP"
      },
      "source": [
        "---\n",
        "# **Q6) 🔍 Finding Right Fit**\n",
        "As we saw in the previous example, if we aren't careful with how we set `max_depth`, our model can potentially overfit or underfit. \n",
        "\n",
        "A common way of limiting the depth of the tree is to consider two early stopping rules:\n",
        "* When when the tree reaches a maximum depth (`max_depth`)\n",
        "* When the leaf nodes have too few data samples in them (`min_samples_leaf`)\n",
        "\n",
        "Instead of writing the standard hyper-parameter tuning loop you've written before (i.e. loop over possible choices of something like $\\lambda$, train on the training data with that value of $\\lambda$, and validate using a validation set), we will use a `sklearn` module that does this for us using k-fold cross validation.\n",
        "\n",
        "The reason we want to use a library for this task is it gets more complicated when we want to find the best combination of both `max_depth` and `min_samples_leaf`. The code becomes quite tedious to write since your loop would need to try all pairs of values for `max_depth` and `min_samples_leaf` and have some way of storing the results to compare.\n",
        "\n",
        "Instead, we use use `sklearn`'s `GridSearchCV` (documentation [here](https://scikit-learn.org/stable/modules/generated/sklearn.model_selection.GridSearchCV.html#sklearn.model_selection.GridSearchCV)) to do all this book-keeping for us! You should look at the documentation on that page (there is a good example underneath the method reference) to solve the following step.\n",
        "\n",
        "Use `GridSearchCV` to try all combinations of \n",
        "* `min_samples_leaf`: [1, 10, 50, 100, 200, 300]\n",
        "* `max_depth`: [1, 5, 10, 15, 20]\n",
        "\n",
        "Some implementation details:\n",
        "* For our code later, save the `GridSearchCV` object in a variable called `search` and the dictionary specifying parameters in a variable called `hyperparameters`.\n",
        "* You should use 6-fold valudation `cv=6` and make sure it records the training accuracies by using `return_train_score=True`.\n",
        "* Print the result using the `best_params_` property on the `GridSearchCV` object. \n",
        "* This might take some time to run! "
      ]
    },
    {
      "cell_type": "code",
      "metadata": {
        "id": "iGgC7tUOT_EP",
        "colab": {
          "base_uri": "https://localhost:8080/"
        },
        "outputId": "95196276-8665-4c8c-a298-c1d6b4349c70"
      },
      "source": [
        "### edTest(test_q6_grid_search) ###\n",
        "\n",
        "# TODO Use GridSearchCV to find best settings of hyperparameters\n",
        "from sklearn.model_selection import GridSearchCV\n",
        "\n",
        "hyperparameters = {\n",
        "    \"max_depth\" : [1, 5, 10, 15, 20],\n",
        "    \"min_samples_leaf\" : [1, 10, 50, 100, 200, 300],\n",
        "}\n",
        "\n",
        "search = GridSearchCV(DecisionTreeClassifier(), hyperparameters, cv=6, return_train_score=True).fit(train_data[features], train_data[target])\n",
        "print(\"Best parameter combination is\", search.best_params_)\n"
      ],
      "execution_count": 24,
      "outputs": [
        {
          "output_type": "stream",
          "name": "stdout",
          "text": [
            "Best parameter combination is {'max_depth': 5, 'min_samples_leaf': 50}\n"
          ]
        }
      ]
    },
    {
      "cell_type": "markdown",
      "metadata": {
        "id": "Wba9NQm9T_EQ"
      },
      "source": [
        "We can also plot the train and validation accuracy of the models for different settings of the hyper-parameters. The plot will be in 3D since there are 2 inputs for each model specification."
      ]
    },
    {
      "cell_type": "code",
      "metadata": {
        "id": "yqo_qU2KT_EQ",
        "colab": {
          "base_uri": "https://localhost:8080/",
          "height": 465
        },
        "outputId": "140a94ad-2020-41f3-97fd-77c7075d1c8c"
      },
      "source": [
        "def plot_scores(ax, title, search, hyperparameters, score_key):\n",
        "    # Get results from GridSearch and turn scores into matrix\n",
        "    cv_results = search.cv_results_\n",
        "    scores = cv_results[score_key]\n",
        "    scores = scores.reshape((len(hyperparameters['max_depth']), len(hyperparameters['min_samples_leaf'])))\n",
        "    max_depths = cv_results['param_max_depth'].reshape(scores.shape).data.astype(int)\n",
        "    min_samples_leafs = cv_results['param_min_samples_leaf'].reshape(scores.shape).data.astype(int)\n",
        "    \n",
        "    # Plot result\n",
        "    ax.plot_wireframe(max_depths, min_samples_leafs, scores)\n",
        "    ax.view_init(20, 220)\n",
        "    ax.set_xlabel('Maximum Depth')\n",
        "    ax.set_ylabel('Minimum Samples Leaf')\n",
        "    ax.set_zlabel('Accuracy')\n",
        "    ax.set_title(title)\n",
        "\n",
        "\n",
        "fig = plt.figure(figsize=(15,7))\n",
        "ax1 = fig.add_subplot(121, projection='3d')\n",
        "ax2 = fig.add_subplot(122, projection='3d')\n",
        "plot_scores(ax1, 'Train Accuracy', search, hyperparameters, 'mean_train_score')\n",
        "plot_scores(ax2, 'Validation Accuracy', search, hyperparameters, 'mean_test_score')"
      ],
      "execution_count": 26,
      "outputs": [
        {
          "output_type": "stream",
          "name": "stderr",
          "text": [
            "/usr/local/lib/python3.7/dist-packages/numpy/core/_asarray.py:136: VisibleDeprecationWarning: Creating an ndarray from ragged nested sequences (which is a list-or-tuple of lists-or-tuples-or ndarrays with different lengths or shapes) is deprecated. If you meant to do this, you must specify 'dtype=object' when creating the ndarray\n",
            "  return array(a, dtype, copy=False, order=order, subok=True)\n"
          ]
        },
        {
          "output_type": "display_data",
          "data": {
            "image/png": "[encoded data removed]",
            "text/plain": [
              "<Figure size 1080x504 with 2 Axes>"
            ]
          },
          "metadata": {
            "needs_background": "light"
          }
        }
      ]
    },
    {
      "cell_type": "markdown",
      "metadata": {
        "id": "XVVA5K5KT_EQ"
      },
      "source": [
        "There is no question for this part, but make sure you understand why we see the trends we do here. Make sure you can answer the following questions:\n",
        "* Why does the train accuracy spike up in the left graph, but go downward on the right graph?\n",
        "* Which graph should we look at to pick the model that will hopefully do best in the future?\n",
        "* Why is the spike in training accuracy only for the point with `max_depth=20` and `min_samples_leaf=1`? Why isn't the training accuracy very high for the other settings of `min_samples_leaf` even when `max_depth=20`?"
      ]
    },
    {
      "cell_type": "markdown",
      "metadata": {
        "id": "HGFu89pxT_EQ"
      },
      "source": [
        "--- \n",
        "# **🔍 Q7) Random Forest**\n",
        "In class, we talked about the random forest ensemble. To show us empirically that such a simple idea of adding multiple classifiers works in practice, in this section we are going to implement a type of random forest and analyze its performance. \n",
        "\n",
        "This is slightly different than most work you'll do in our course since we are asking you to implement the inner-workings of part of a model. You should write code to make the ensemble, but you can use `sklearn`'s decision tree model as the models in your ensemble; in other words you don't need to implement a decision tree from scratch! \n",
        "\n",
        "Below, we have written the starter code for a class called `RandomForest416` that has methods similar to most sklearn models. You only have to implement the `fit` method, all other parts are implemented for you. However, you should understand how the other code works to help you identify what you need to do.\n",
        "\n",
        "The `fit` method should train each tree on a different random sample of the examples in the given dataset with $n$ examples. Each random sample should select examples uniformly at random (with replacement) to make a new, modified, dataset of $n$ examples for that tree. To do this, you will want to use `np.random.randint` (documentation [here](https://numpy.org/doc/stable/reference/random/generated/numpy.random.randint.html)) to generate a random sequence of indices, and then use the `iloc` property on the given `pandas` objects to select those rows. \n"
      ]
    },
    {
      "cell_type": "code",
      "metadata": {
        "id": "UDsXDo0iT_ER"
      },
      "source": [
        "### edTest(test_q7_random_forest) ###\n",
        "\n",
        "import scipy.stats \n",
        "\n",
        "class RandomForest416: \n",
        "    \"\"\"\n",
        "    This class implements the common sklearn model interface (has a fit and predict function).\n",
        "    \n",
        "    A random forest is a collection of decision trees that are trained on random subsets of the \n",
        "    dataset. When predicting the value for an example, takes a majority vote from the trees.\n",
        "    \"\"\"\n",
        "    \n",
        "    def __init__(self, num_trees, max_depth=None):\n",
        "        \"\"\"\n",
        "        Constructs a RandomForest416 that uses the given numbner of trees, each with a \n",
        "        max depth of max_depth.\n",
        "        \"\"\"\n",
        "        self._trees = [\n",
        "            DecisionTreeClassifier(max_depth=max_depth, random_state=1) \n",
        "            for i in range(num_trees)\n",
        "        ]\n",
        "        \n",
        "    def fit(self, X, y):\n",
        "        \"\"\"\n",
        "        Takes an input dataset X and a series of targets y and trains the RandomForest416.\n",
        "        \n",
        "        Each tree will be trained on a random sample of the data that samples the examples\n",
        "        uniformly at random (with replacement). Each random dataset will have the same number\n",
        "        of examples as the original dataset, but some examples may be missing or appear more \n",
        "        than once due to the random sampling with replacement.\n",
        "        \"\"\"    \n",
        "        # TODO implement this method!\n",
        "\n",
        "        for tree in self._trees:\n",
        "          rand = np.random.randint(0, len(X), size=len(X))\n",
        "          sample_train_X = X.iloc[rand]\n",
        "          sample_train_y = y.iloc[rand]\n",
        "\n",
        "          tree.fit(sample_train_X, sample_train_y)\n",
        "        \n",
        "            \n",
        "    def predict(self, X):\n",
        "        \"\"\"\n",
        "        Takes an input dataset X and returns the predictions for each example in X.\n",
        "        \"\"\"\n",
        "        # Builds up a 2d array with n rows and T columns\n",
        "        # where n is the number of points to classify and T is the number of trees\n",
        "        predictions = np.zeros((len(X), len(self._trees)))\n",
        "        for i, tree in enumerate(self._trees):\n",
        "            # Make predictions using the current tree\n",
        "            preds = tree.predict(X)\n",
        "            \n",
        "            # Store those predictions in ith column of the 2d array\n",
        "            predictions[:, i] = preds\n",
        "            \n",
        "        # For each row of predictions, find the most frequent label (axis=1 means across columns)\n",
        "        return scipy.stats.mode(predictions, axis=1)[0]"
      ],
      "execution_count": 42,
      "outputs": []
    },
    {
      "cell_type": "markdown",
      "metadata": {
        "id": "UrEKewTPT_ER"
      },
      "source": [
        "You can test out your implemenation by running the following cell:"
      ]
    },
    {
      "cell_type": "code",
      "metadata": {
        "id": "BYlUz7zYT_ER",
        "colab": {
          "base_uri": "https://localhost:8080/"
        },
        "outputId": "200f4060-b210-419c-f8f8-5e629bdd66f1"
      },
      "source": [
        "rf = RandomForest416(2, max_depth=1)\n",
        "rf.fit(train_data[features], train_data[target])\n",
        "rf.predict(validation_data[features])"
      ],
      "execution_count": 44,
      "outputs": [
        {
          "output_type": "execute_result",
          "data": {
            "text/plain": [
              "array([[1.],\n",
              "       [1.],\n",
              "       [1.],\n",
              "       ...,\n",
              "       [1.],\n",
              "       [1.],\n",
              "       [1.]])"
            ]
          },
          "metadata": {},
          "execution_count": 44
        }
      ]
    },
    {
      "cell_type": "markdown",
      "metadata": {
        "id": "ZuvzyLGcT_ER"
      },
      "source": [
        "We can then compare how `sklearn`'s `DecisionTreeClassifier` to our `RandomForest416` to see how its training and validation accuracies compare as a function of the depth of the trees. The code below trains each model with a different max depth and then plots their accuracies. It might take some time to run, but it also prints the progress by showing the current depth it is on (it will range from 1 to 25)."
      ]
    },
    {
      "cell_type": "code",
      "metadata": {
        "id": "9rZ8dL3hT_ER",
        "colab": {
          "base_uri": "https://localhost:8080/",
          "height": 574
        },
        "outputId": "cfd192e6-07e8-43d5-83d7-2a482273f69b"
      },
      "source": [
        "# First calculate the accuracies for each depth\n",
        "depths = list(range(1, 26, 2))\n",
        "dt_accuracies = []\n",
        "rf_accuracies = []\n",
        "\n",
        "for i in depths:\n",
        "    print(f'Depth {i}')\n",
        "\n",
        "    # Train and evaluate a Decision Tree Classifier with given max_depth\n",
        "    tree = DecisionTreeClassifier(max_depth=i)\n",
        "    tree.fit(train_data[features], train_data[target])\n",
        "    dt_accuracies.append((\n",
        "        accuracy_score(tree.predict(train_data[features]), train_data[target]),\n",
        "        accuracy_score(tree.predict(validation_data[features]), validation_data[target])\n",
        "    ))\n",
        "    \n",
        "    # Train and evaluate our RandomForest classifier with given max_depth \n",
        "    rf = RandomForest416(15, max_depth=i)\n",
        "    rf.fit(train_data[features], train_data[target])\n",
        "    rf_accuracies.append((     \n",
        "        accuracy_score(rf.predict(train_data[features]), train_data[target]),\n",
        "        accuracy_score(rf.predict(validation_data[features]), validation_data[target])\n",
        "    ))\n",
        "    \n",
        "# Then plot the scores\n",
        "fig, axs = plt.subplots(1, 2, figsize=(15, 5))\n",
        "\n",
        "# Plot training accuracies\n",
        "axs[0].plot(depths, [acc[0] for acc in dt_accuracies], label='DecisionTree')\n",
        "axs[0].plot(depths, [acc[0] for acc in rf_accuracies], label='RandomForest416')\n",
        "\n",
        "# Plot validation accuracies\n",
        "axs[1].plot(depths, [acc[1] for acc in dt_accuracies], label='DecisionTree')\n",
        "axs[1].plot(depths, [acc[1] for acc in rf_accuracies], label='RandomForest416')\n",
        "\n",
        "# Customize plots\n",
        "axs[0].set_title('Train Data')\n",
        "axs[1].set_title('Validation Data')\n",
        "for ax in axs:\n",
        "    ax.legend()\n",
        "    ax.set_xlabel('Max Depth')\n",
        "    ax.set_ylabel('Accuracy')"
      ],
      "execution_count": 45,
      "outputs": [
        {
          "output_type": "stream",
          "name": "stdout",
          "text": [
            "Depth 1\n",
            "Depth 3\n",
            "Depth 5\n",
            "Depth 7\n",
            "Depth 9\n",
            "Depth 11\n",
            "Depth 13\n",
            "Depth 15\n",
            "Depth 17\n",
            "Depth 19\n",
            "Depth 21\n",
            "Depth 23\n",
            "Depth 25\n"
          ]
        },
        {
          "output_type": "display_data",
          "data": {
            "image/png": "[encoded data removed]",
            "text/plain": [
              "<Figure size 1080x360 with 2 Axes>"
            ]
          },
          "metadata": {
            "needs_background": "light"
          }
        }
      ]
    },
    {
      "cell_type": "markdown",
      "metadata": {
        "id": "BUOLq_nJT_ER"
      },
      "source": [
        "### **🔍 Q8) Which model?**\n",
        "Which model, when using max depth of 25, would we expect to perform the best in the future?\n",
        "\n",
        "Save your answer in a variable called `q8`. So either write\n",
        "* `q8 = 'DecisionTreeClassifier'`\n",
        "* `q8 = 'RandomForest416'`\n"
      ]
    },
    {
      "cell_type": "code",
      "metadata": {
        "id": "xJG1r4SRT_ER"
      },
      "source": [
        "### edTest(test_q8) ###\n",
        "\n",
        "# TODO select which model\n",
        "q8 = 'RandomForest416'"
      ],
      "execution_count": 46,
      "outputs": []
    }
  ]
}